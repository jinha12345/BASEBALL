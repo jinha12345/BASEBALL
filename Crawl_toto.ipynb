{
 "cells": [
  {
   "cell_type": "code",
   "execution_count": null,
   "id": "e20232a5",
   "metadata": {},
   "outputs": [
    {
     "name": "stderr",
     "output_type": "stream",
     "text": [
      "연도:   0%|          | 0/10 [00:00<?, ?it/s]"
     ]
    }
   ],
   "source": [
    "import requests\n",
    "from bs4 import BeautifulSoup\n",
    "import pandas as pd\n",
    "import time\n",
    "from tqdm import tqdm\n",
    "\n",
    "data = []\n",
    "base_url = \"https://www.betman.co.kr/main/mainPage/gamebuy/closedGameSlipIFR.do\"\n",
    "params_template = {\n",
    "    \"gmId\": \"G101\",\n",
    "    \"gameDivCd\": \"C\",\n",
    "    \"isIFR\": \"Y\"\n",
    "}\n",
    "\n",
    "# 연도별 회차 반복 (2015년 ~ 2024년, 1~157회차)\n",
    "for year in tqdm(range(15, 25), desc=\"연도\"):\n",
    "    for round_num in range(1, 158):\n",
    "        gm_ts = f\"{year:02}{round_num:03}\"\n",
    "        params = params_template.copy()\n",
    "        params[\"gmTs\"] = gm_ts\n",
    "\n",
    "        try:\n",
    "            response = requests.get(base_url, params=params, timeout=5)\n",
    "            soup = BeautifulSoup(response.content, \"html.parser\")\n",
    "            rows = soup.select(\"tbody#tbd_gmBuySlipList > tr\")\n",
    "            if not rows:\n",
    "                continue  # 페이지 없음\n",
    "\n",
    "            for row in rows:\n",
    "                try:\n",
    "                    # 종목: td[3], 게임유형: td[4]\n",
    "                    league = row.select_one(\"td:nth-of-type(3)\").get_text(strip=True)\n",
    "                    gametype = row.select_one(\"td:nth-of-type(4)\").get_text(strip=True)\n",
    "                    if \"KBO\" not in league or \"일반\" not in gametype:\n",
    "                        continue  # 야구/일반 베팅이 아니면 제외\n",
    "\n",
    "                    matchup = row.select_one(\"td:nth-of-type(5)\").get_text(\" \", strip=True)\n",
    "                    scores = row.select(\"td:nth-of-type(5) strong.score\")\n",
    "                    home_score = scores[0].get_text(strip=True) if len(scores) > 0 else \"\"\n",
    "                    away_score = scores[1].get_text(strip=True) if len(scores) > 1 else \"\"\n",
    "\n",
    "                    odds_btns = row.select(\"td:nth-of-type(6) button span.db\")\n",
    "                    odds = [btn.get_text(strip=True).replace(\"배당률 상승\", \"\").replace(\"배당률 하락\", \"\") for btn in odds_btns]\n",
    "                    \n",
    "                    date = row.select_one(\"td:nth-of-type(7)\").get_text(\" \", strip=True)\n",
    "\n",
    "                    data.append({\n",
    "                        \"연도\": 2000 + year,\n",
    "                        \"회차\": round_num,\n",
    "                        \"날짜\": date,\n",
    "                        \"경기\": matchup,\n",
    "                        \"홈팀 점수\": home_score,\n",
    "                        \"원정팀 점수\": away_score,\n",
    "                        \"배당1\": odds[0] if len(odds) > 0 else \"\",\n",
    "                        \"배당2\": odds[1] if len(odds) > 1 else \"\",\n",
    "                        \"배당3\": odds[2] if len(odds) > 2 else \"\"\n",
    "                    })\n",
    "                except:\n",
    "                    continue\n",
    "            time.sleep(0.5)\n",
    "        except:\n",
    "            continue\n",
    "\n",
    "# 저장\n",
    "df = pd.DataFrame(data)\n",
    "df.to_excel(\"KBO_betman_cleaned.xlsx\", index=False)\n"
   ]
  },
  {
   "cell_type": "code",
   "execution_count": null,
   "id": "a5e12577",
   "metadata": {},
   "outputs": [],
   "source": []
  }
 ],
 "metadata": {
  "kernelspec": {
   "display_name": "Baseball",
   "language": "python",
   "name": "python3"
  },
  "language_info": {
   "codemirror_mode": {
    "name": "ipython",
    "version": 3
   },
   "file_extension": ".py",
   "mimetype": "text/x-python",
   "name": "python",
   "nbconvert_exporter": "python",
   "pygments_lexer": "ipython3",
   "version": "3.12.9"
  }
 },
 "nbformat": 4,
 "nbformat_minor": 5
}
